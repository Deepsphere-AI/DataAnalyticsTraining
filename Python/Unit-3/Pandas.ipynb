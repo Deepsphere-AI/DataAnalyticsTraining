{
  "nbformat": 4,
  "nbformat_minor": 0,
  "metadata": {
    "colab": {
      "provenance": [],
      "include_colab_link": true
    },
    "kernelspec": {
      "name": "python3",
      "display_name": "Python 3"
    },
    "language_info": {
      "name": "python"
    }
  },
  "cells": [
    {
      "cell_type": "markdown",
      "metadata": {
        "id": "view-in-github",
        "colab_type": "text"
      },
      "source": [
        "<a href=\"https://colab.research.google.com/github/Deepsphere-AI/DataAnalyticsTraining/blob/main/Python/Unit-3/Pandas.ipynb\" target=\"_parent\"><img src=\"https://colab.research.google.com/assets/colab-badge.svg\" alt=\"Open In Colab\"/></a>"
      ]
    },
    {
      "cell_type": "code",
      "execution_count": null,
      "metadata": {
        "id": "plC2TWyvXqai"
      },
      "outputs": [],
      "source": [
        "#~~~~~~~~~~~~~~~~~~~~~~~~~\n",
        "# pandas - Example 1 - Pandas\n",
        "# What is Pandas?\n",
        "#  Pandas is a Python library used for working with data sets.\n",
        "#  It has functions for analyzing, cleaning, exploring, and manipulating data.\n",
        "#  The name \"Pandas\" has a reference to both \"Panel Data\", and \"Python Data Analysis\" and was created by Wes McKinney in 2008.\n",
        "#   Pandas gives you answers about the data. Like:\n",
        "#       Correlation between two or more columns\n",
        "#       Average value\n",
        "#       Max value\n",
        "#       Min value\n",
        "#~~~~~~~~~~~~~~~~~~~~~~~~~\n",
        "import pandas\n",
        "mydataset = {  ## What data structure is this?\n",
        "  'cars': [\"BMW\", \"Volvo\", \"Ford\"],\n",
        "  'passings': [3, 7, 2]\n",
        "}\n",
        "myvar_PDF = pandas.DataFrame(mydataset)\n",
        "#print(myvar_PDF)\n",
        "\n",
        "import pandas as pd\n",
        "mydataset = {\n",
        "  'cars': [\"BMW\", \"Volvo\", \"Ford\"],\n",
        "  'passings': [3, 7, 2]\n",
        "}\n",
        "myvar_PDF = pd.DataFrame(mydataset)\n",
        "print(myvar_PDF)\n",
        "#print(pd.__version__) #print(pd.__version__)"
      ]
    },
    {
      "cell_type": "code",
      "source": [
        "#~~~~~~~~~~~~~~~~~~~~~~~~~\n",
        "# pandas - Example 1.1 - Create an Empty DataFrame\n",
        "#\n",
        "#~~~~~~~~~~~~~~~~~~~~~~~~~\n",
        "\n",
        "import pandas as pd\n",
        "df = pd.DataFrame()\n",
        "print(df)"
      ],
      "metadata": {
        "id": "ENVOBiOCFArU",
        "colab": {
          "base_uri": "https://localhost:8080/"
        },
        "outputId": "f4f2fa53-6b2f-4efd-80f8-65def96b3cf3"
      },
      "execution_count": null,
      "outputs": [
        {
          "output_type": "stream",
          "name": "stdout",
          "text": [
            "Empty DataFrame\n",
            "Columns: []\n",
            "Index: []\n"
          ]
        }
      ]
    },
    {
      "cell_type": "code",
      "source": [
        "#~~~~~~~~~~~~~~~~~~~~~~~~~\n",
        "# pandas - Example 1.2 - Create with a List and Columns Value\n",
        "#\n",
        "#~~~~~~~~~~~~~~~~~~~~~~~~~\n",
        "import pandas as pd\n",
        "data = [['Alex',10],['Bob',12],['Clarke',13]]\n",
        "#df = pd.DataFrame(data) # No Names Given to the Column\n",
        "df = pd.DataFrame(data,columns=['Customer Name','Customer Age'])\n",
        "print(df)"
      ],
      "metadata": {
        "id": "HGc_7qodIZm5"
      },
      "execution_count": null,
      "outputs": []
    },
    {
      "cell_type": "code",
      "source": [
        "#~~~~~~~~~~~~~~~~~~~~~~~~~\n",
        "# pandas - Example 1.3 - Create with a List and Columns Value and Data Type\n",
        "##~~~~~~~~~~~~~~~~~~~~~~~~~\n",
        "import pandas as pd\n",
        "data = [['Alex',10],['Bob',12],['Clarke',13]]\n",
        "df = pd.DataFrame(data,columns=['Name','Age'],dtype=float) # There will be a Type Cost Error , Why?\n",
        "print(df)"
      ],
      "metadata": {
        "id": "sccSUEiUI1Fh"
      },
      "execution_count": null,
      "outputs": []
    },
    {
      "cell_type": "code",
      "source": [
        "#~~~~~~~~~~~~~~~~~~~~~~~~~\n",
        "# pandas - Example 1.4 - Create a DataFrame from Dict of ndarrays / Lists\n",
        "##~~~~~~~~~~~~~~~~~~~~~~~~~\n",
        "import pandas as pd\n",
        "data = {'Name':['Tom', 'Jack', 'Steve', 'Ricky'],'Age':[28,34,29,42]} # What will happend it the List element's doesn't match\n",
        "df = pd.DataFrame(data)\n",
        "print(df)"
      ],
      "metadata": {
        "id": "uIB_8Cg9JpPw"
      },
      "execution_count": null,
      "outputs": []
    },
    {
      "cell_type": "code",
      "source": [
        "#~~~~~~~~~~~~~~~~~~~~~~~~~\n",
        "# pandas - Example 1.5 - create an indexed DataFrame using arrays.\n",
        "##~~~~~~~~~~~~~~~~~~~~~~~~~\n",
        "import pandas as pd\n",
        "data = {'Name':['Tom', 'Jack', 'Steve', 'Ricky'],'Age':[28,34,29,42]}\n",
        "#df = pd.DataFrame(data, index=['Row #1 ','Row #2 ','Row #3 ','Row #4 ']) # Indexed Data Frame\n",
        "df = pd.DataFrame(data)\n",
        "print(df)"
      ],
      "metadata": {
        "id": "mVc_qZNyKFMb"
      },
      "execution_count": null,
      "outputs": []
    },
    {
      "cell_type": "code",
      "source": [
        "#~~~~~~~~~~~~~~~~~~~~~~~~~\n",
        "# pandas - Example 1.6 - Create a DataFrame from List of Dicts\n",
        "##~~~~~~~~~~~~~~~~~~~~~~~~~\n",
        "import pandas as pd\n",
        "data = [{'a': 1, 'b': 2, 'c': 3},{'a': 5, 'b': 10, 'c': 20}]\n",
        "df = pd.DataFrame(data)\n",
        "print(df)"
      ],
      "metadata": {
        "id": "SSB3RyvgLxn9"
      },
      "execution_count": null,
      "outputs": []
    },
    {
      "cell_type": "code",
      "source": [
        "#~~~~~~~~~~~~~~~~~~~~~~~~~\n",
        "# pandas - Example 1.6 - NaN (Not a Number) is appended in missing areas.\n",
        "##~~~~~~~~~~~~~~~~~~~~~~~~~\n",
        "import pandas as pd\n",
        "data = [{'KEY1': 1, 'KEY2': 2},{'KEY1': 5, 'KEY2': 10, 'KEY3': 20}]\n",
        "df = pd.DataFrame(data, index=['first-Row', 'second-Row'])\n",
        "print(df)"
      ],
      "metadata": {
        "id": "rSHy9tIkMVFt"
      },
      "execution_count": null,
      "outputs": []
    },
    {
      "cell_type": "code",
      "source": [
        "#~~~~~~~~~~~~~~~~~~~~~~~~~\n",
        "# pandas - Example 1.7 - create a DataFrame with a list of dictionaries, row indices, and column indices.\n",
        "##~~~~~~~~~~~~~~~~~~~~~~~~~\n",
        "import pandas as pd\n",
        "data = [{'KEY1': 1, 'KEY2': 2},{'KEY1': 5, 'KEY2': 10, 'KEY3': 20}]\n",
        "\n",
        "#With two column indices, values same as dictionary keys\n",
        "df1 = pd.DataFrame(data, index=['first-Row', 'second-Row'], columns=['KEY1', 'KEY2','KEY3'])\n",
        "\n",
        "#With two column indices with one index with other name\n",
        "df2 = pd.DataFrame(data, index=['first=Row', 'second-Row'], columns=['KEY1', 'KEY4']) # There is no such KEY4\n",
        "\n",
        "#print(df1)\n",
        "print('~~~~~~~~~~~~~~~~~~~~~~~~~~~~~~')\n",
        "print(df2)"
      ],
      "metadata": {
        "id": "0HNBVEeFNICX"
      },
      "execution_count": null,
      "outputs": []
    },
    {
      "cell_type": "code",
      "source": [
        "#~~~~~~~~~~~~~~~~~~~~~~~~~\n",
        "# pandas - Example 1.7 - Create a DataFrame from Dict of Series\n",
        "##~~~~~~~~~~~~~~~~~~~~~~~~~\n",
        "\n",
        "import pandas as pd\n",
        "\n",
        "d = {'STOCK-INDEX-KEY-1' : pd.Series([1, 2, 3], index=['INDEX-1', 'INDEX-2', 'INDEX-3']),\n",
        "     'STOCK-INDEX-KEY-2' : pd.Series([1, 2, 3, 4], index=['INDEX-1', 'INDEX-2', 'INDEX-3', 'INDEX-4'])}\n",
        "\n",
        "df = pd.DataFrame(d)\n",
        "print(df)"
      ],
      "metadata": {
        "id": "Z1XZcJZwPTBA"
      },
      "execution_count": null,
      "outputs": []
    },
    {
      "cell_type": "code",
      "source": [
        "#~~~~~~~~~~~~~~~~~~~~~~~~~\n",
        "# pandas - Example 1.7 - Column Selection\n",
        "##~~~~~~~~~~~~~~~~~~~~~~~~~\n",
        "import pandas as pd\n",
        "\n",
        "d = {'KEY-1' : pd.Series([1, 2, 3], index=['ROW1', 'ROW2', 'ROW3']),\n",
        "   'KEY-2' : pd.Series([1111, 2222, 3333, 4444], index=['ROW1', 'ROW2', 'ROW3', 'ROW4'])}\n",
        "\n",
        "df = pd.DataFrame(d)\n",
        "#print(df ['COLUMN-ONE'])\n",
        "print('~~~~~~~~~~~~~~~~~~~~~~~~~~~~~~~~~`')\n",
        "print(df ['KEY-2']) #"
      ],
      "metadata": {
        "id": "k3w4_yIARY85",
        "colab": {
          "base_uri": "https://localhost:8080/"
        },
        "outputId": "3ff98343-d6ef-4add-d57d-14b0ad5b34a5"
      },
      "execution_count": null,
      "outputs": [
        {
          "output_type": "stream",
          "name": "stdout",
          "text": [
            "~~~~~~~~~~~~~~~~~~~~~~~~~~~~~~~~~`\n",
            "ROW1    1111\n",
            "ROW2    2222\n",
            "ROW3    3333\n",
            "ROW4    4444\n",
            "Name: KEY-2, dtype: int64\n"
          ]
        }
      ]
    },
    {
      "cell_type": "code",
      "source": [
        "#~~~~~~~~~~~~~~~~~~~~~~~~~\n",
        "# pandas - Example 2 - Series?\n",
        "# A Pandas Series is like a column in a table.\n",
        "#~~~~~~~~~~~~~~~~~~~~~~~~~\n",
        "import pandas as pd\n",
        "a = [1111, 77777, 22222,44444,55555]\n",
        "pds = pd.Series(a)\n",
        "print(pds)\n",
        "#print(myvar[0]) #Return the first value of the Series:"
      ],
      "metadata": {
        "id": "Ov5b9E6Da_JZ",
        "colab": {
          "base_uri": "https://localhost:8080/"
        },
        "outputId": "8c428c4c-f235-44cb-f093-4512c61f0b41"
      },
      "execution_count": null,
      "outputs": [
        {
          "output_type": "stream",
          "name": "stdout",
          "text": [
            "0     1111\n",
            "1    77777\n",
            "2    22222\n",
            "3    44444\n",
            "4    55555\n",
            "dtype: int64\n"
          ]
        }
      ]
    },
    {
      "cell_type": "code",
      "source": [
        "#~~~~~~~~~~~~~~~~~~~~~~~~~\n",
        "# pandas - Example 3 - Create Labels\n",
        "# Create your own labels:\n",
        "#~~~~~~~~~~~~~~~~~~~~~~~~~\n",
        "import pandas as pd\n",
        "a = [11111, 7777, 22222, 44444,55555]\n",
        "myvar = pd.Series(a, index = [\"Index 1\", \"Index 2\", \"Index 3\",\"Index 4\",\"Index 5\"])\n",
        "print(myvar)\n",
        "print('+===================+')\n",
        "print(myvar[\"Index 1\"])\n"
      ],
      "metadata": {
        "id": "fQqnPBeVb5tp"
      },
      "execution_count": null,
      "outputs": []
    },
    {
      "cell_type": "code",
      "source": [
        "#~~~~~~~~~~~~~~~~~~~~~~~~~\n",
        "# pandas - Example 4 - Key/Value Objects as Series\n",
        "# Key/Value Objects as Series\n",
        "#~~~~~~~~~~~~~~~~~~~~~~~~\n",
        "import pandas as pd\n",
        "calories = {\"day1\": 4244444, \"day2\": 385555, \"day3\": 396666} #Create a simple Pandas Series from a dictionary:\n",
        "myvar = pd.Series(calories) # I want to access all Index - That's why I did specifiy the Index\n",
        "#print(myvar)\n",
        "\n",
        "myvar = pd.Series(calories, index = [\"day1\", \"day1\", \"day1\", \"day4\"])\n",
        "print(myvar)"
      ],
      "metadata": {
        "id": "y7aDI7cRcn6W"
      },
      "execution_count": null,
      "outputs": []
    },
    {
      "cell_type": "code",
      "source": [
        "#~~~~~~~~~~~~~~~~~~~~~~~~~\n",
        "# pandas - Example 5 - Create a DataFrame from two Series:\n",
        "# Create a DataFrame from two Series:\n",
        "#~~~~~~~~~~~~~~~~~~~~~~~~\n",
        "import pandas as pd\n",
        "data = {\n",
        "  \"calories\": [420, 380, 390],\n",
        "  \"duration\": [50, 40, 45]\n",
        "}\n",
        "myvar = pd.DataFrame(data)\n",
        "print(myvar)"
      ],
      "metadata": {
        "id": "q85jy02hddw-",
        "colab": {
          "base_uri": "https://localhost:8080/"
        },
        "outputId": "139f2664-9bee-4888-92d6-9fd78f850912"
      },
      "execution_count": null,
      "outputs": [
        {
          "output_type": "stream",
          "name": "stdout",
          "text": [
            "   calories  duration\n",
            "0       420        50\n",
            "1       380        40\n",
            "2       390        45\n"
          ]
        }
      ]
    },
    {
      "cell_type": "code",
      "source": [
        "#~~~~~~~~~~~~~~~~~~~~~~~~~\n",
        "# pandas - Example 6 - Locate Row\n",
        "# Locate Row\n",
        "# 01/02/2024\n",
        "#~~~~~~~~~~~~~~~~~~~~~~~~\n",
        "import pandas as pd\n",
        "data = {\n",
        "  \"calories\": [420, 380, 390],\n",
        "  \"duration\": [50, 40, 45]\n",
        "}\n",
        "#load data into a DataFrame object:\n",
        "df = pd.DataFrame(data)\n",
        "#print(df)\n",
        "#print(df.loc[0]) #refer to the row index: Return row 0:\n",
        "print(df.loc[[0, 1]]) #Return row 0 and 1:\n"
      ],
      "metadata": {
        "id": "MSm-CrxwdtnW",
        "colab": {
          "base_uri": "https://localhost:8080/"
        },
        "outputId": "c7adc6ca-3026-4636-db71-4dbd89612229"
      },
      "execution_count": null,
      "outputs": [
        {
          "output_type": "stream",
          "name": "stdout",
          "text": [
            "   calories  duration\n",
            "0       420        50\n",
            "1       380        40\n"
          ]
        }
      ]
    },
    {
      "cell_type": "code",
      "source": [
        "#~~~~~~~~~~~~~~~~~~~~~~~~~\n",
        "# pandas - Example 7 - Pandas Read CSV\n",
        "# Pandas Read CSV\n",
        "# Set Max Rows\n",
        "#~~~~~~~~~~~~~~~~~~~~~~~~\n",
        "\n",
        "import pandas as pd\n",
        "df = pd.read_csv('/content/UNIT3PANDASdataFile.csv')\n",
        "#print(df.to_string()) #use to_string() to print the entire DataFrame.\n",
        "\n",
        "print(pd.options.display.max_rows)  # What is the dault max value (max rows) of a data frame\n",
        "                 ### ~~~~ You can check your system's maximum rows with the pd.options.display.max_rows statement.\n",
        "pd.options.display.max_rows = 300\n",
        "print(pd.options.display.max_rows)\n",
        "print(df)\n",
        "print(df.to_string())"
      ],
      "metadata": {
        "id": "qQQBbm4KAjQL"
      },
      "execution_count": null,
      "outputs": []
    },
    {
      "cell_type": "code",
      "source": [
        "#~~~~~~~~~~~~~~~~~~~~~~~~~\n",
        "# pandas - Example 7.1 - Reading CSV Files with csv lib\n",
        "# Reading CSV Files with csv lib\n",
        "#~~~~~~~~~~~~~~~~~~~~~~~~\n",
        "\n",
        "import csv\n",
        "with open('/content/UNIT3LVADSAIEMPDATAv1.csv', 'r') as file:\n",
        "    reader = csv.reader(file)\n",
        "    for row in reader:\n",
        "        print(row)"
      ],
      "metadata": {
        "id": "UenpnjkTtPRd",
        "colab": {
          "base_uri": "https://localhost:8080/"
        },
        "outputId": "1e22f6e7-e44b-4dbe-fdba-d488928f553e"
      },
      "execution_count": null,
      "outputs": [
        {
          "output_type": "stream",
          "name": "stdout",
          "text": [
            "['EMPLOYEE_ID', 'FIRST_NAME', 'LAST_NAME', 'EMAIL', 'PHONE_NUMBER', 'HIRE_DATE', 'JOB_ID', 'SALARY', 'COMMISSION_PCT', 'MANAGER_ID', 'DEPARTMENT_ID']\n",
            "['198', 'Donald', 'OConnell', 'DOCONNEL', '650.507.9833', '21-Jun-07', 'SH_CLERK', '2600', ' - ', '124', '50']\n",
            "['199', 'Douglas', 'Grant', 'DGRANT', '650.507.9844', '13-Jan-08', 'SH_CLERK', '2600', ' - ', '124', '50']\n",
            "['200', 'Jennifer', 'Whalen', 'JWHALEN', '515.123.4444', '17-Sep-03', 'AD_ASST', '4400', ' - ', '101', '10']\n",
            "['201', 'Michael', 'Hartstein', 'MHARTSTE', '515.123.5555', '17-Feb-04', 'MK_MAN', '13000', ' - ', '100', '20']\n",
            "['202', 'Pat', 'Fay', 'PFAY', '603.123.6666', '17-Aug-05', 'MK_REP', '6000', ' - ', '201', '20']\n",
            "['203', 'Susan', 'Mavris', 'SMAVRIS', '515.123.7777', '7-Jun-02', 'HR_REP', '6500', ' - ', '101', '40']\n",
            "['204', 'Hermann', 'Baer', 'HBAER', '515.123.8888', '7-Jun-02', 'PR_REP', '10000', ' - ', '101', '70']\n",
            "['205', 'Shelley', 'Higgins', 'SHIGGINS', '515.123.8080', '7-Jun-02', 'AC_MGR', '12008', ' - ', '101', '110']\n",
            "['206', 'William', 'Gietz', 'WGIETZ', '515.123.8181', '7-Jun-02', 'AC_ACCOUNT', '8300', ' - ', '205', '110']\n",
            "['100', 'Steven', 'King', 'SKING', '515.123.4567', '17-Jun-03', 'AD_PRES', '24000', ' - ', ' - ', '90']\n",
            "['101', 'Neena', 'Kochhar', 'NKOCHHAR', '515.123.4568', '21-Sep-05', 'AD_VP', '17000', ' - ', '100', '90']\n",
            "['102', 'Lex', 'De Haan', 'LDEHAAN', '515.123.4569', '13-Jan-01', 'AD_VP', '17000', ' - ', '100', '90']\n",
            "['103', 'Alexander', 'Hunold', 'AHUNOLD', '590.423.4567', '3-Jan-06', 'IT_PROG', '9000', ' - ', '102', '60']\n",
            "['104', 'Bruce', 'Ernst', 'BERNST', '590.423.4568', '21-May-07', 'IT_PROG', '6000', ' - ', '103', '60']\n",
            "['105', 'David', 'Austin', 'DAUSTIN', '590.423.4569', '25-Jun-05', 'IT_PROG', '4800', ' - ', '103', '60']\n",
            "['106', 'Valli', 'Pataballa', 'VPATABAL', '590.423.4560', '5-Feb-06', 'IT_PROG', '4800', ' - ', '103', '60']\n",
            "['107', 'Diana', 'Lorentz', 'DLORENTZ', '590.423.5567', '7-Feb-07', 'IT_PROG', '4200', ' - ', '103', '60']\n",
            "['108', 'Nancy', 'Greenberg', 'NGREENBE', '515.124.4569', '17-Aug-02', 'FI_MGR', '12008', ' - ', '101', '100']\n",
            "['109', 'Daniel', 'Faviet', 'DFAVIET', '515.124.4169', '16-Aug-02', 'FI_ACCOUNT', '9000', ' - ', '108', '100']\n",
            "['110', 'John', 'Chen', 'JCHEN', '515.124.4269', '28-Sep-05', 'FI_ACCOUNT', '8200', ' - ', '108', '100']\n",
            "['111', 'Ismael', 'Sciarra', 'ISCIARRA', '515.124.4369', '30-Sep-05', 'FI_ACCOUNT', '7700', ' - ', '108', '100']\n",
            "['112', 'Jose Manuel', 'Urman', 'JMURMAN', '515.124.4469', '7-Mar-06', 'FI_ACCOUNT', '7800', ' - ', '108', '100']\n",
            "['113', 'Luis', 'Popp', 'LPOPP', '515.124.4567', '7-Dec-07', 'FI_ACCOUNT', '6900', ' - ', '108', '100']\n",
            "['114', 'Den', 'Raphaely', 'DRAPHEAL', '515.127.4561', '7-Dec-02', 'PU_MAN', '11000', ' - ', '100', '30']\n",
            "['115', 'Alexander', 'Khoo', 'AKHOO', '515.127.4562', '18-May-03', 'PU_CLERK', '3100', ' - ', '114', '30']\n",
            "['116', 'Shelli', 'Baida', 'SBAIDA', '515.127.4563', '24-Dec-05', 'PU_CLERK', '2900', ' - ', '114', '30']\n",
            "['117', 'Sigal', 'Tobias', 'STOBIAS', '515.127.4564', '24-Jul-05', 'PU_CLERK', '2800', ' - ', '114', '30']\n",
            "['118', 'Guy', 'Himuro', 'GHIMURO', '515.127.4565', '15-Nov-06', 'PU_CLERK', '2600', ' - ', '114', '30']\n",
            "['119', 'Karen', 'Colmenares', 'KCOLMENA', '515.127.4566', '10-Aug-07', 'PU_CLERK', '2500', ' - ', '114', '30']\n",
            "['120', 'Matthew', 'Weiss', 'MWEISS', '650.123.1234', '18-Jul-04', 'ST_MAN', '8000', ' - ', '100', '50']\n",
            "['121', 'Adam', 'Fripp', 'AFRIPP', '650.123.2234', '10-Apr-05', 'ST_MAN', '8200', ' - ', '100', '50']\n",
            "['122', 'Payam', 'Kaufling', 'PKAUFLIN', '650.123.3234', '1-May-03', 'ST_MAN', '7900', ' - ', '100', '50']\n",
            "['123', 'Shanta', 'Vollman', 'SVOLLMAN', '650.123.4234', '10-Oct-05', 'ST_MAN', '6500', ' - ', '100', '50']\n",
            "['124', 'Kevin', 'Mourgos', 'KMOURGOS', '650.123.5234', '16-Nov-07', 'ST_MAN', '5800', ' - ', '100', '50']\n",
            "['125', 'Julia', 'Nayer', 'JNAYER', '650.124.1214', '16-Jul-05', 'ST_CLERK', '3200', ' - ', '120', '50']\n",
            "['126', 'Irene', 'Mikkilineni', 'IMIKKILI', '650.124.1224', '28-Sep-06', 'ST_CLERK', '2700', ' - ', '120', '50']\n",
            "['127', 'James', 'Landry', 'JLANDRY', '650.124.1334', '14-Jan-07', 'ST_CLERK', '2400', ' - ', '120', '50']\n",
            "['128', 'Steven', 'Markle', 'SMARKLE', '650.124.1434', '8-Mar-08', 'ST_CLERK', '2200', ' - ', '120', '50']\n",
            "['129', 'Laura', 'Bissot', 'LBISSOT', '650.124.5234', '20-Aug-05', 'ST_CLERK', '3300', ' - ', '121', '50']\n",
            "['130', 'Mozhe', 'Atkinson', 'MATKINSO', '650.124.6234', '30-Oct-05', 'ST_CLERK', '2800', ' - ', '121', '50']\n",
            "['131', 'James', 'Marlow', 'JAMRLOW', '650.124.7234', '16-Feb-05', 'ST_CLERK', '2500', ' - ', '121', '50']\n",
            "['132', 'TJ', 'Olson', 'TJOLSON', '650.124.8234', '10-Apr-07', 'ST_CLERK', '2100', ' - ', '121', '50']\n",
            "['133', 'Jason', 'Mallin', 'JMALLIN', '650.127.1934', '14-Jun-04', 'ST_CLERK', '3300', ' - ', '122', '50']\n",
            "['134', 'Michael', 'Rogers', 'MROGERS', '650.127.1834', '26-Aug-06', 'ST_CLERK', '2900', ' - ', '122', '50']\n",
            "['135', 'Ki', 'Gee', 'KGEE', '650.127.1734', '12-Dec-07', 'ST_CLERK', '2400', ' - ', '122', '50']\n",
            "['136', 'Hazel', 'Philtanker', 'HPHILTAN', '650.127.1634', '6-Feb-08', 'ST_CLERK', '2200', ' - ', '122', '50']\n",
            "['137', 'Renske', 'Ladwig', 'RLADWIG', '650.121.1234', '14-Jul-03', 'ST_CLERK', '3600', ' - ', '123', '50']\n",
            "['138', 'Stephen', 'Stiles', 'SSTILES', '650.121.2034', '26-Oct-05', 'ST_CLERK', '3200', ' - ', '123', '50']\n",
            "['139', 'John', 'Seo', 'JSEO', '650.121.2019', '12-Feb-06', 'ST_CLERK', '2700', ' - ', '123', '50']\n",
            "['140', 'Joshua', 'Patel', 'JPATEL', '650.121.1834', '6-Apr-06', 'ST_CLERK', '2500', ' - ', '123', '50']\n",
            "['', '', '', '', '', '', '', '', '', '', '']\n"
          ]
        }
      ]
    },
    {
      "cell_type": "code",
      "source": [
        "#~~~~~~~~~~~~~~~~~~~~~~~~~\n",
        "# pandas - Example 7.2 - Leveraging \"numpy\" for Reading CSV Files\n",
        "# Leveraging numpy for Reading CSV Files\n",
        "#~~~~~~~~~~~~~~~~~~~~~~~~\n",
        "\n",
        "import numpy as np\n",
        "data = np.genfromtxt('/content/UNIT3LVADSAIEMPSALv1.csv', delimiter=',')\n",
        "print(data)\n",
        "## Question - Why is the data displayed in format different than the csv.reader"
      ],
      "metadata": {
        "id": "xBnDE8OWwLgp"
      },
      "execution_count": null,
      "outputs": []
    },
    {
      "cell_type": "code",
      "source": [
        "#~~~~~~~~~~~~~~~~~~~~~~~~~\n",
        "# pandas - Example 7.3 - Handling Missing Values\n",
        "# Handling Missing Values\n",
        "# Missing data can be a common issue when reading CSV files.\n",
        "# By default, pandas recognizes certain values like ‘NA’ or ‘NULL’ as missing data.\n",
        "#~~~~~~~~~~~~~~~~~~~~~~~~\n",
        "import pandas as pd\n",
        "df = pd.read_csv('/content/UNIT3LVADSAIEMPSALv1.csv', na_values=['NA', 'NULL', 'Missing'])\n",
        "print(df)\n",
        "## How to replace the defult \"NaN\" value to someting busienss focused values like (0000)\n"
      ],
      "metadata": {
        "id": "GmfiboPOzFsm",
        "colab": {
          "base_uri": "https://localhost:8080/"
        },
        "outputId": "d181a697-9e65-4b1a-fd45-a1a0adff50c4"
      },
      "execution_count": null,
      "outputs": [
        {
          "output_type": "stream",
          "name": "stdout",
          "text": [
            "   EID      ESAL  ECOMM\n",
            "0  101  100000.0  10000\n",
            "1  102  200000.0  20000\n",
            "2  103  300000.0  30000\n",
            "3  104  400000.0  40000\n",
            "4  105  500000.0  50000\n",
            "5  106       NaN  60000\n",
            "6  107       NaN  70000\n",
            "7  108       NaN  80000\n",
            "8  109       NaN  90000\n"
          ]
        }
      ]
    },
    {
      "cell_type": "code",
      "source": [
        "#~~~~~~~~~~~~~~~~~~~~~~~~~\n",
        "# pandas - Example 7.4 - Dealing with Incorrect Data Types\n",
        "# Dealing with Incorrect Data Types\n",
        "#~~~~~~~~~~~~~~~~~~~~~~~~\n",
        "import pandas as pd\n",
        "df = pd.read_csv('/content/UNIT3LVADSAIEMPSALv1.csv', dtype={'COL1': int, 'COL2': float,'ECOMM': float})\n",
        "print(df)"
      ],
      "metadata": {
        "id": "IkEObHoGz_TV"
      },
      "execution_count": null,
      "outputs": []
    },
    {
      "cell_type": "code",
      "source": [
        "#~~~~~~~~~~~~~~~~~~~~~~~~~\n",
        "# pandas - Example 7.5 - Utilizing header Parameter\n",
        "# Utilizing header Parameter\n",
        "# In this case, the first row (0th index) of the CSV file is used as the column names of the DataFrame.\n",
        "#~~~~~~~~~~~~~~~~~~~~~~~~\n",
        "import pandas as pd\n",
        "df = pd.read_csv('/content/UNIT3LVADSAIEMPSALv1.csv', header=2)\n",
        "print(df)"
      ],
      "metadata": {
        "colab": {
          "base_uri": "https://localhost:8080/"
        },
        "id": "ytMtiHFY3Fsq",
        "outputId": "2bbbdb81-c2de-4ca6-db92-0b66ef485b8e"
      },
      "execution_count": null,
      "outputs": [
        {
          "output_type": "stream",
          "name": "stdout",
          "text": [
            "   102    200000  20000\n",
            "0  103  300000.0  30000\n",
            "1  104  400000.0  40000\n",
            "2  105  500000.0  50000\n",
            "3  106       NaN  60000\n",
            "4  107       NaN  70000\n",
            "5  108       NaN  80000\n",
            "6  109       NaN  90000\n"
          ]
        }
      ]
    },
    {
      "cell_type": "code",
      "source": [
        "#~~~~~~~~~~~~~~~~~~~~~~~~~\n",
        "# pandas - Example 7.6 - usecols Parameter\n",
        "# only ‘EID’ and ‘ESAL’ from the CSV file are read into the DataFrame.\n",
        "#~~~~~~~~~~~~~~~~~~~~~~~~\n",
        "import pandas as pd\n",
        "\n",
        "df = pd.read_csv('/content/UNIT3LVADSAIEMPDATAv1.csv', usecols=['EMPLOYEE_ID', 'HIRE_DATE'])\n",
        "#df = pd.read_csv('/content/UNIT3LVADSAIEMPDATAv1.csv')\n",
        "print(df)"
      ],
      "metadata": {
        "id": "bnchBt_Q3ipB"
      },
      "execution_count": null,
      "outputs": []
    },
    {
      "cell_type": "code",
      "source": [
        "#~~~~~~~~~~~~~~~~~~~~~~~~~\n",
        "# pandas - Example 7.7 - index_col Parameter\n",
        "# ‘Column1’ from the CSV file is used as the index of the DataFrame\n",
        "#~~~~~~~~~~~~~~~~~~~~~~~~\n",
        "import pandas as pd\n",
        "\n",
        "df = pd.read_csv('/content/UNIT3LVADSAIEMPSALv1.csv', index_col='EID')\n",
        "#df = pd.read_csv('/content/UNIT3LVADSAIEMPSALv1.csv')\n",
        "print(df)"
      ],
      "metadata": {
        "id": "CPBhsRzI4gdZ"
      },
      "execution_count": null,
      "outputs": []
    },
    {
      "cell_type": "code",
      "source": [],
      "metadata": {
        "id": "w7i_ODrt4MlP"
      },
      "execution_count": null,
      "outputs": []
    },
    {
      "cell_type": "code",
      "source": [
        "#~~~~~~~~~~~~~~~~~~~~~~~~~\n",
        "#~~~~~~~~~~~~~~~~~~~~~~~~~\n",
        "# pandas - Example 8 - Exercise\n",
        "# Pandas Read CSV\n",
        "#~~~~~~~~~~~~~~~~~~~~~~~~\n",
        "#~~~~~~~~~~~~~~~~~~~~~~~~~\n",
        "# [[1]] - Instead of selecting all columns in the file, select only certain columns\n",
        "# [[2]] - In the case of NULL values, set the columns to a default value\n",
        "# [[3]] - Add +/- to two columns (ex: order amount - order discount)\n",
        "# [[4]] - Change the display order according to business requirements instead of displaying as it is in the file\n",
        "# [[5]] - Display only the columns with string values\n",
        "# [[6]] - Display only employees belonging to department 100 in an employee CSV file using a Python data frame\n",
        "# [[7] - Using a Python data frame, calculate employee total compensation as an added column (the column does not exist in the employee data CSV file).\n",
        "#        Salary plus commission equals total compensation.\n",
        "#\n",
        "##~~~~~~~~~~~~~~~~~~~~~~~~~\n",
        "##~~~~~~~~~~~~~~~~~~~~~~~~~"
      ],
      "metadata": {
        "id": "NzrMaw5sHTKD"
      },
      "execution_count": null,
      "outputs": []
    },
    {
      "cell_type": "code",
      "source": [
        "#~~~~~~~~~~~~~~~~~~~~~~~~~\n",
        "# pandas - Example 9 - Pandas Read JSON\n",
        "# JSON = JSON stands for JavaScript Object Notation\n",
        "# JSON is an open standard file format and data interchange format that uses human-readable text to store and\n",
        "#     transmit data objects consisting of attribute–value pairs and arrays.\n",
        "#     It is a common data format with diverse uses in electronic data interchange, including that of web applications with servers\n",
        "#~~~~~~~~~~~~~~~~~~~~~~~~\n",
        "import pandas as pd\n",
        "data = {\n",
        "  \"Duration\":{\n",
        "    \"0\":60,\n",
        "    \"1\":60,\n",
        "    \"2\":60,\n",
        "    \"3\":45,\n",
        "    \"4\":45,\n",
        "    \"5\":60\n",
        "  },\n",
        "  \"Pulse\":{\n",
        "    \"0\":110,\n",
        "    \"1\":117,\n",
        "    \"2\":103,\n",
        "    \"3\":109,\n",
        "    \"4\":117,\n",
        "    \"5\":102\n",
        "  },\n",
        "  \"Maxpulse\":{\n",
        "    \"0\":130,\n",
        "    \"1\":145,\n",
        "    \"2\":135,\n",
        "    \"3\":175,\n",
        "    \"4\":148,\n",
        "    \"5\":127\n",
        "  },\n",
        "  \"Calories\":{\n",
        "    \"0\":409,\n",
        "    \"1\":479,\n",
        "    \"2\":340,\n",
        "    \"3\":282,\n",
        "    \"4\":406,\n",
        "    \"5\":300\n",
        "  }\n",
        "}\n",
        "df = pd.DataFrame(data)\n",
        "print(df)"
      ],
      "metadata": {
        "id": "aCbkLwG6LcMn",
        "colab": {
          "base_uri": "https://localhost:8080/"
        },
        "outputId": "c70e4954-b636-4a06-94ec-7a06c0022b4d"
      },
      "execution_count": null,
      "outputs": [
        {
          "output_type": "stream",
          "name": "stdout",
          "text": [
            "   Duration  Pulse  Maxpulse  Calories\n",
            "0        60    110       130       409\n",
            "1        60    117       145       479\n",
            "2        60    103       135       340\n",
            "3        45    109       175       282\n",
            "4        45    117       148       406\n",
            "5        60    102       127       300\n"
          ]
        }
      ]
    },
    {
      "cell_type": "code",
      "source": [
        "#~~~~~~~~~~~~~~~~~~~~~~~~~\n",
        "#~~~~~~~~~~~~~~~~~~~~~~~~~\n",
        "# pandas - Example 10 - Pandas Read JSON\n",
        "# Pandas Read JSON\n",
        "#~~~~~~~~~~~~~~~~~~~~~~~~\n",
        "#~~~~~~~~~~~~~~~~~~~~~~~~~\n",
        "import pandas as pd\n",
        "df = pd.read_json('/content/UNIT3LVADSAI-WEBUSER.json')\n",
        "print(df.to_string())"
      ],
      "metadata": {
        "id": "ijVS3AQPOEBz",
        "colab": {
          "base_uri": "https://localhost:8080/"
        },
        "outputId": "2281f1d0-42d8-4ae8-c9ff-6c332a9af976"
      },
      "execution_count": null,
      "outputs": [
        {
          "output_type": "stream",
          "name": "stdout",
          "text": [
            "                    user_id              email            name given_name family_name nickname        last_ip  logins_count                       created_at                       updated_at                last_login  email_verified\n",
            "0  583c3ac3f38e84297c002546      test@test.com   test@test.com      Hello        Test     test  94.121.163.63          15.0 2016-11-28 14:10:11.338000+00:00 2016-12-02 01:17:29.310000+00:00  2016-12-02T01:17:29.310Z            True\n",
            "1  583c5484cb79a5fe593425a9     test1@test.com  test1@test.com     Hello1       Test1    test1  94.121.168.53           1.0 2016-11-28 16:00:04.209000+00:00 2016-11-28 16:00:47.203000+00:00  2016-11-28T16:00:47.203Z            True\n",
            "2  583c57672c7686377d2f66c9        aaa@aaa.com     aaa@aaa.com       John       Dough      aaa  94.121.168.53           2.0 2016-11-28 16:12:23.777000+00:00 2016-11-28 16:12:52.353000+00:00  2016-11-28T16:12:52.353Z            True\n",
            "3  5840b954da0529cd293d76fe            a@a.com         a@a.com       Jane       Dough        a  94.121.163.63           3.0 2016-12-01 23:59:16.473000+00:00 2016-12-01 23:59:53.474000+00:00  2016-12-01T23:59:53.474Z            True\n",
            "4  584a9d13e808bcf75f05f580  test9999@test.com             NaN      Dummy        User      NaN            NaN           NaN 2016-12-09 12:01:23.787000+00:00 2016-12-09 12:01:23.787000+00:00                       NaN           False\n"
          ]
        }
      ]
    }
  ]
}