{
 "cells": [
  {
   "cell_type": "markdown",
   "id": "e59755ca",
   "metadata": {},
   "source": [
    "# Exploratory Data Analysis (EDA) Charts\n",
    "This notebook provides explanations and Python code for various charts used in EDA."
   ]
  },
  {
   "cell_type": "markdown",
   "id": "8d2f1248",
   "metadata": {},
   "source": [
    "## 1. Histogram"
   ]
  },
  {
   "cell_type": "markdown",
   "id": "636f90c0",
   "metadata": {},
   "source": [
    "A histogram represents the distribution of a single continuous variable. It groups data into bins and shows the frequency of data points in each bin."
   ]
  },
  {
   "cell_type": "code",
   "execution_count": null,
   "id": "89ff90a6",
   "metadata": {},
   "outputs": [],
   "source": [
    "import matplotlib.pyplot as plt\n",
    "\n",
    "data = [your_data]  # Replace with your data\n",
    "plt.hist(data, bins=10)\n",
    "plt.title('Histogram')\n",
    "plt.xlabel('Value')\n",
    "plt.ylabel('Frequency')\n",
    "plt.show()"
   ]
  },
  {
   "cell_type": "markdown",
   "id": "a91ad57d",
   "metadata": {},
   "source": [
    "## 2. Scatter Plot"
   ]
  },
  {
   "cell_type": "markdown",
   "id": "e3cf04ce",
   "metadata": {},
   "source": [
    "Scatter plots are used to examine the relationship between two continuous variables. Each point represents an observation."
   ]
  },
  {
   "cell_type": "code",
   "execution_count": null,
   "id": "d126ae4a",
   "metadata": {},
   "outputs": [],
   "source": [
    "plt.scatter(data_x, data_y)  # Replace data_x and data_y with your data\n",
    "plt.title('Scatter Plot')\n",
    "plt.xlabel('X-axis label')\n",
    "plt.ylabel('Y-axis label')\n",
    "plt.show()"
   ]
  },
  {
   "cell_type": "markdown",
   "id": "3079d806",
   "metadata": {},
   "source": [
    "## 3. Box Plot"
   ]
  },
  {
   "cell_type": "markdown",
   "id": "0c960cc6",
   "metadata": {},
   "source": [
    "Box plots summarize the distribution of a continuous variable, showing median, quartiles, and outliers."
   ]
  },
  {
   "cell_type": "code",
   "execution_count": null,
   "id": "026c693f",
   "metadata": {},
   "outputs": [],
   "source": [
    "plt.boxplot(data)  # Replace data with your data\n",
    "plt.title('Box Plot')\n",
    "plt.ylabel('Value')\n",
    "plt.show()"
   ]
  },
  {
   "cell_type": "markdown",
   "id": "252010db",
   "metadata": {},
   "source": [
    "## 4. Bar Chart"
   ]
  },
  {
   "cell_type": "markdown",
   "id": "f91b207c",
   "metadata": {},
   "source": [
    "Bar charts are used for categorical data, showing the frequency or count of items in each category."
   ]
  },
  {
   "cell_type": "code",
   "execution_count": null,
   "id": "3bc8ec31",
   "metadata": {},
   "outputs": [],
   "source": [
    "categories = ['Category1', 'Category2', 'Category3']  # Replace with your categories\n",
    "values = [value1, value2, value3]  # Replace with your values\n",
    "\n",
    "plt.bar(categories, values)\n",
    "plt.title('Bar Chart')\n",
    "plt.xlabel('Category')\n",
    "plt.ylabel('Value')\n",
    "plt.show()"
   ]
  },
  {
   "cell_type": "markdown",
   "id": "02d0576b",
   "metadata": {},
   "source": [
    "## 5. Line Graph"
   ]
  },
  {
   "cell_type": "markdown",
   "id": "1134943a",
   "metadata": {},
   "source": [
    "Line graphs are suitable for time series data, showing trends over time."
   ]
  },
  {
   "cell_type": "code",
   "execution_count": null,
   "id": "93c609d7",
   "metadata": {},
   "outputs": [],
   "source": [
    "plt.plot(time_data, value_data)  # Replace time_data and value_data with your data\n",
    "plt.title('Line Graph')\n",
    "plt.xlabel('Time')\n",
    "plt.ylabel('Value')\n",
    "plt.show()"
   ]
  },
  {
   "cell_type": "markdown",
   "id": "6856bd16",
   "metadata": {},
   "source": [
    "## 6. Heat Map"
   ]
  },
  {
   "cell_type": "markdown",
   "id": "d30fd24a",
   "metadata": {},
   "source": [
    "Heat maps represent data in a matrix with color-coded values."
   ]
  },
  {
   "cell_type": "code",
   "execution_count": null,
   "id": "7d861a96",
   "metadata": {},
   "outputs": [],
   "source": [
    "import seaborn as sns\n",
    "\n",
    "data_matrix = [[value11, value12], [value21, value22]]  # Replace with your matrix data\n",
    "sns.heatmap(data_matrix, annot=True)\n",
    "plt.title('Heat Map')\n",
    "plt.show()"
   ]
  },
  {
   "cell_type": "markdown",
   "id": "e7883315",
   "metadata": {},
   "source": [
    "## 7. Pie Chart"
   ]
  },
  {
   "cell_type": "markdown",
   "id": "5eebc46b",
   "metadata": {},
   "source": [
    "Pie charts show the proportional distribution of categories as parts of a whole."
   ]
  },
  {
   "cell_type": "code",
   "execution_count": null,
   "id": "769d3d21",
   "metadata": {},
   "outputs": [],
   "source": [
    "sizes = [size1, size2, size3]  # Replace with your sizes\n",
    "labels = ['Label1', 'Label2', 'Label3']  # Replace with your labels\n",
    "\n",
    "plt.pie(sizes, labels=labels, autopct='%1.1f%%')\n",
    "plt.title('Pie Chart')\n",
    "plt.show()"
   ]
  },
  {
   "cell_type": "markdown",
   "id": "583ed854",
   "metadata": {},
   "source": [
    "## 8. Violin Plot"
   ]
  },
  {
   "cell_type": "markdown",
   "id": "dc3bcabd",
   "metadata": {},
   "source": [
    "Violin plots are similar to box plots but include a kernel density estimation."
   ]
  },
  {
   "cell_type": "code",
   "execution_count": null,
   "id": "2a429b29",
   "metadata": {},
   "outputs": [],
   "source": [
    "import seaborn as sns\n",
    "\n",
    "data = [your_data]  # Replace with your data\n",
    "sns.violinplot(data=data)\n",
    "plt.title('Violin Plot')\n",
    "plt.ylabel('Value')\n",
    "plt.show()"
   ]
  },
  {
   "cell_type": "markdown",
   "id": "e7e9a418",
   "metadata": {},
   "source": [
    "## 9. Area Chart"
   ]
  },
  {
   "cell_type": "markdown",
   "id": "7b1349b3",
   "metadata": {},
   "source": [
    "Area charts are similar to line charts but fill the area under the line, emphasizing the magnitude of values."
   ]
  },
  {
   "cell_type": "code",
   "execution_count": null,
   "id": "b35cd3f7",
   "metadata": {},
   "outputs": [],
   "source": [
    "plt.fill_between(time_data, value_data)  # Replace time_data and value_data with your data\n",
    "plt.title('Area Chart')\n",
    "plt.xlabel('Time')\n",
    "plt.ylabel('Value')\n",
    "plt.show()"
   ]
  },
  {
   "cell_type": "markdown",
   "id": "3db0d323",
   "metadata": {},
   "source": [
    "## 10. Stacked Bar Chart"
   ]
  },
  {
   "cell_type": "markdown",
   "id": "e7a46df0",
   "metadata": {},
   "source": [
    "Stacked bar charts divide each bar into multiple segments representing sub-categories."
   ]
  },
  {
   "cell_type": "code",
   "execution_count": null,
   "id": "aaa7e10a",
   "metadata": {},
   "outputs": [],
   "source": [
    "import numpy as np\n",
    "bar_width = 0.35\n",
    "index = np.arange(len(categories))\n",
    "\n",
    "plt.bar(index, values1, bar_width, label='Label1')  # Replace values1 and Label1\n",
    "plt.bar(index, values2, bar_width, bottom=values1, label='Label2')  # Replace values2 and Label2\n",
    "\n",
    "plt.xlabel('Category')\n",
    "plt.ylabel('Values')\n",
    "plt.title('Stacked Bar Chart')\n",
    "plt.xticks(index, categories)\n",
    "plt.legend()\n",
    "plt.show()"
   ]
  },
  {
   "cell_type": "markdown",
   "id": "f0f739c2",
   "metadata": {},
   "source": [
    "## 11. Dot Plot"
   ]
  },
  {
   "cell_type": "markdown",
   "id": "c176182e",
   "metadata": {},
   "source": [
    "Dot plots are similar to bar charts but use dots instead of bars, often providing a clearer view for small datasets."
   ]
  },
  {
   "cell_type": "code",
   "execution_count": null,
   "id": "e25b5669",
   "metadata": {},
   "outputs": [],
   "source": [
    "for i, value in enumerate(values):\n",
    "    plt.plot(value, i, 'o')  # 'o' creates a dot\n",
    "\n",
    "plt.yticks(range(len(values)), ['Label1', 'Label2', 'Label3'])  # Replace labels\n",
    "plt.title('Dot Plot')\n",
    "plt.xlabel('Value')\n",
    "plt.show()"
   ]
  },
  {
   "cell_type": "markdown",
   "id": "c4447fff",
   "metadata": {},
   "source": [
    "## 12. Bubble Chart"
   ]
  },
  {
   "cell_type": "markdown",
   "id": "e5f87f49",
   "metadata": {},
   "source": [
    "Bubble charts are like scatter plots but include a third dimension, represented by the size of the dots."
   ]
  },
  {
   "cell_type": "code",
   "execution_count": null,
   "id": "18f8d9df",
   "metadata": {},
   "outputs": [],
   "source": [
    "bubble_sizes = [size1, size2, size3]  # Replace with your sizes\n",
    "\n",
    "plt.scatter(data_x, data_y, s=bubble_sizes)  # s for size\n",
    "plt.title('Bubble Chart')\n",
    "plt.xlabel('X-axis')\n",
    "plt.ylabel('Y-axis')\n",
    "plt.show()"
   ]
  },
  {
   "cell_type": "markdown",
   "id": "d06d801d",
   "metadata": {},
   "source": [
    "## 13. Radar Chart"
   ]
  },
  {
   "cell_type": "markdown",
   "id": "fc93d7eb",
   "metadata": {},
   "source": [
    "Radar charts display multivariate data with axes starting from the same point, useful for comparing multiple items."
   ]
  },
  {
   "cell_type": "code",
   "execution_count": null,
   "id": "9ebe7d2b",
   "metadata": {},
   "outputs": [],
   "source": [
    "from math import pi\n",
    "\n",
    "# Number of variables\n",
    "categories = ['A', 'B', 'C', 'D']  # Replace with your categories\n",
    "N = len(categories)\n",
    "\n",
    "# Values for each category\n",
    "values = [value1, value2, value3, value4]  # Replace with your values\n",
    "values += values[:1]  # repeat the first value to close the circular graph\n",
    "\n",
    "# Angles for each axis\n",
    "angles = [n / float(N) * 2 * pi for n in range(N)]\n",
    "angles += angles[:1]\n",
    "\n",
    "ax = plt.subplot(111, polar=True)\n",
    "plt.xticks(angles[:-1], categories)\n",
    "ax.plot(angles, values)\n",
    "ax.fill(angles, values, alpha=0.3)\n",
    "plt.show()"
   ]
  },
  {
   "cell_type": "markdown",
   "id": "d2aa43b8",
   "metadata": {},
   "source": [
    "## 14. Tree Map"
   ]
  },
  {
   "cell_type": "markdown",
   "id": "cc1e1ac3",
   "metadata": {},
   "source": [
    "Tree maps display hierarchical data with nested rectangles."
   ]
  },
  {
   "cell_type": "code",
   "execution_count": null,
   "id": "d0f16004",
   "metadata": {},
   "outputs": [],
   "source": [
    "import squarify  # pip install squarify\n",
    "\n",
    "sizes = [size1, size2, size3, size4]  # Replace with your sizes\n",
    "labels = ['Label1', 'Label2', 'Label3', 'Label4']  # Replace with your labels\n",
    "\n",
    "squarify.plot(sizes=sizes, label=labels, alpha=0.7)\n",
    "plt.axis('off')\n",
    "plt.show()"
   ]
  },
  {
   "cell_type": "markdown",
   "id": "5fa25943",
   "metadata": {},
   "source": [
    "## 15. Parallel Coordinates Plot"
   ]
  },
  {
   "cell_type": "markdown",
   "id": "c31bbb86",
   "metadata": {},
   "source": [
    "Parallel coordinates are used for plotting multivariate data."
   ]
  },
  {
   "cell_type": "code",
   "execution_count": null,
   "id": "faf42969",
   "metadata": {},
   "outputs": [],
   "source": [
    "from pandas.plotting import parallel_coordinates\n",
    "import pandas as pd\n",
    "\n",
    "# Create a DataFrame\n",
    "df = pd.DataFrame({\n",
    "    'A': [value1, value2, value3],\n",
    "    'B': [value4, value5, value6],\n",
    "    'C': [value7, value8, value9]\n",
    "})\n",
    "\n",
    "parallel_coordinates(df, class_column='A')\n",
    "plt.title('Parallel Coordinates Plot')\n",
    "plt.show()"
   ]
  },
  {
   "cell_type": "markdown",
   "id": "a08e7b90",
   "metadata": {},
   "source": [
    "## 16. Swarm Plot"
   ]
  },
  {
   "cell_type": "markdown",
   "id": "62fcf7b9",
   "metadata": {},
   "source": [
    "Swarm plots display points for categories, ensuring they do not overlap."
   ]
  },
  {
   "cell_type": "code",
   "execution_count": null,
   "id": "025fb112",
   "metadata": {},
   "outputs": [],
   "source": [
    "sns.swarmplot(x='category', y='value', data=df)  # Replace category and value with your column names\n",
    "plt.title('Swarm Plot')\n",
    "plt.xlabel('Category')\n",
    "plt.ylabel('Value')\n",
    "plt.show()"
   ]
  },
  {
   "cell_type": "markdown",
   "id": "51fe2ab5",
   "metadata": {},
   "source": [
    "## 17. Density Plot"
   ]
  },
  {
   "cell_type": "markdown",
   "id": "da5c0f9c",
   "metadata": {},
   "source": [
    "Density plots show the distribution of a continuous variable with a smooth curve."
   ]
  },
  {
   "cell_type": "code",
   "execution_count": null,
   "id": "20bca0d1",
   "metadata": {},
   "outputs": [],
   "source": [
    "sns.kdeplot(data, shade=True)  # Replace data with your data\n",
    "plt.title('Density Plot')\n",
    "plt.xlabel('Value')\n",
    "plt.show()"
   ]
  },
  {
   "cell_type": "markdown",
   "id": "a22e76e6",
   "metadata": {},
   "source": [
    "## 18. Boxen Plot"
   ]
  },
  {
   "cell_type": "markdown",
   "id": "89e72f28",
   "metadata": {},
   "source": [
    "Boxen plots are enhanced box plots designed for larger datasets."
   ]
  },
  {
   "cell_type": "code",
   "execution_count": null,
   "id": "2ee0066f",
   "metadata": {},
   "outputs": [],
   "source": [
    "sns.boxenplot(x='category', y='value', data=df)  # Replace category and value\n",
    "plt.title('Boxen Plot')\n",
    "plt.xlabel('Category')\n",
    "plt.ylabel('Value')\n",
    "plt.show()"
   ]
  }
 ],
 "metadata": {},
 "nbformat": 4,
 "nbformat_minor": 5
}
